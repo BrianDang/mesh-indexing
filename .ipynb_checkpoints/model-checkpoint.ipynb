{
 "cells": [
  {
   "cell_type": "code",
   "execution_count": 3,
   "metadata": {},
   "outputs": [],
   "source": [
    "from nltk.tokenize import sent_tokenize, word_tokenize\n",
    "from collections import Counter\n",
    "import numpy as np\n",
    "\n",
    "def breakparagraph(paragraph):\n",
    "    return sent_tokenize(paragraph)\n",
    "\n",
    "# Loads all of the mesh words\n",
    "file = open(\"mesh_2018_ID.txt\",\"r\")\n",
    "mesh = file.readlines()\n",
    "meshWords = []\n",
    "meshID = []\n",
    "for n, line  in enumerate(mesh):\n",
    "    lineArr = line.split(\"=\")\n",
    "    word = lineArr[0].lower()\n",
    "    meshWords.append(word)\n",
    "\n",
    "# Creates a dictionary to map words to index\n",
    "wordToIdx = {}\n",
    "for n, word in enumerate(meshWords):\n",
    "    wordToIdx[word] = n"
   ]
  },
  {
   "cell_type": "code",
   "execution_count": 4,
   "metadata": {},
   "outputs": [
    {
     "name": "stdout",
     "output_type": "stream",
     "text": [
      "Done loading in Glove\n"
     ]
    }
   ],
   "source": [
    "words = []\n",
    "idx = 0\n",
    "word2idx = {}\n",
    "vectors=[]\n",
    "\n",
    "# Must download a file into directory for Glove 100d fro this url https://www.kaggle.com/terenceliu4444/glove6b100dtxt\n",
    "# Must rename it to the file name 6B100d.txt\n",
    "with open(\"6B100d.txt\", 'r',encoding= 'utf8') as f:\n",
    "    for l in f:\n",
    "        line = l.split()\n",
    "        word = line[0]\n",
    "\n",
    "        words.append(word)\n",
    "        word2idx[word] = idx\n",
    "        idx += 1\n",
    "        vect = np.array(line[1:]).astype(np.float)\n",
    "        vectors.append(vect)\n",
    "\n",
    "glove = {w: vectors[word2idx[w]] for w in words}\n",
    "print('Done loading in Glove')"
   ]
  },
  {
   "cell_type": "code",
   "execution_count": 10,
   "metadata": {},
   "outputs": [],
   "source": [
    "import json\n",
    "\n",
    "#Loading in all of the training and testing data\n",
    "testing_articles=[]\n",
    "test_mesh=[]\n",
    "articles=[]\n",
    "groundtruth_mesh=[]\n",
    "with open('data.json') as json_file:\n",
    "    data= json.load(json_file)\n",
    "    for d in data['train']:\n",
    "        articles.append(d['article'])\n",
    "        groundtruth_mesh.append(d['mesh_labels'])\n",
    "    for d in data['test']:\n",
    "        testing_articles.append(d['article'])\n",
    "        test_mesh.append(d['mesh_labels'])\n"
   ]
  },
  {
   "cell_type": "code",
   "execution_count": 12,
   "metadata": {},
   "outputs": [],
   "source": [
    "# Loading in all of the candidates for each article in training\n",
    "\n",
    "with open('candidate_data.json') as json_file:\n",
    "    data = json.load(json_file)\n",
    "    candidate_train = [set(d) for d in data['train']]\n",
    "    candidate_test = [set(d) for d in data['test']]\n"
   ]
  },
  {
   "cell_type": "code",
   "execution_count": 15,
   "metadata": {},
   "outputs": [
    {
     "ename": "TypeError",
     "evalue": "buildVocab() missing 1 required positional argument: 'articles'",
     "output_type": "error",
     "traceback": [
      "\u001b[1;31m---------------------------------------------------------------------------\u001b[0m",
      "\u001b[1;31mTypeError\u001b[0m                                 Traceback (most recent call last)",
      "\u001b[1;32m<ipython-input-15-39b817d0a9ac>\u001b[0m in \u001b[0;36m<module>\u001b[1;34m\u001b[0m\n\u001b[0;32m     52\u001b[0m \u001b[1;33m\u001b[0m\u001b[0m\n\u001b[0;32m     53\u001b[0m \u001b[1;33m\u001b[0m\u001b[0m\n\u001b[1;32m---> 54\u001b[1;33m \u001b[0mweights\u001b[0m\u001b[1;33m,\u001b[0m\u001b[0mvocab2Index\u001b[0m \u001b[1;33m=\u001b[0m \u001b[0mbuildVocab\u001b[0m\u001b[1;33m(\u001b[0m\u001b[0marticles\u001b[0m\u001b[1;33m)\u001b[0m\u001b[1;33m\u001b[0m\u001b[1;33m\u001b[0m\u001b[0m\n\u001b[0m",
      "\u001b[1;31mTypeError\u001b[0m: buildVocab() missing 1 required positional argument: 'articles'"
     ]
    }
   ],
   "source": [
    "matrix_len = len(meshWords)\n",
    "weights_matrix = np.zeros((matrix_len+1, 100))\n",
    "words_found = 0\n",
    "meshWord2Idx = {}\n",
    "\n",
    "# Creates the word embedding matrix for the MEsH labels \n",
    "for i, word in enumerate(meshWords):\n",
    "    meshWord2Idx[word] = i\n",
    "    try: \n",
    "        weights_matrix[i] = glove[word]\n",
    "        words_found += 1\n",
    "    except KeyError:\n",
    "        # If MEsH word is not found, generate a new word embedding \n",
    "        weights_matrix[i] = np.random.normal(scale=0.6, size=(100, ))\n",
    "#For unknown Mesh Words\n",
    "meshWord2Idx['unk']=28956\n",
    "\n",
    "\n",
    "\n",
    "\n",
    "\n",
    "def create_emb_layer(weights_matrix, non_trainable=False):\n",
    "    num_embeddings, embedding_dim = weights_matrix.size()\n",
    "    emb_layer = nn.Embedding(num_embeddings, embedding_dim)\n",
    "    emb_layer.load_state_dict({'weight': weights_matrix})\n",
    "    if non_trainable:\n",
    "        emb_layer.weight.requires_grad = False\n",
    "\n",
    "    return emb_layer, num_embeddings, embedding_dim\n",
    "\n",
    "def buildVocab(articles):\n",
    "    vocabulary=set()\n",
    "    for article in articles:\n",
    "        vocabulary.update(set(word_tokenize(article)))\n",
    "    words_found=0\n",
    "    vocab2Index = {}\n",
    "    weights = np.zeros((len(vocabulary)+2, 100))\n",
    "    for i, word in enumerate(vocabulary):\n",
    "        vocab2Index[word] = i\n",
    "        try: \n",
    "            weights[i] = glove[word]\n",
    "            words_found += 1\n",
    "        except KeyError:\n",
    "\n",
    "            weights[i] = np.random.normal(scale=0.6, size=(100, ))\n",
    "    vocab2Index['unk']=len(vocabulary)\n",
    "    weights[len(vocabulary)] = np.random.normal(scale=0.6, size=(100, ))\n",
    "    vocab2Index['<pad>'] = len(vocabulary)+1\n",
    "    weights[len(vocabulary)+1] = np.random.normal(scale=0.6, size=(100, ))\n",
    "    print('Glove Embeddings found for Vocab: ' + str(words_found) +' out of ' + str(len(vocabulary)))\n",
    "    return weights, vocab2Index\n",
    "\n",
    "\n",
    "weights,vocab2Index = buildVocab(articles)"
   ]
  },
  {
   "cell_type": "code",
   "execution_count": null,
   "metadata": {},
   "outputs": [],
   "source": []
  }
 ],
 "metadata": {
  "kernelspec": {
   "display_name": "Python 3",
   "language": "python",
   "name": "python3"
  },
  "language_info": {
   "codemirror_mode": {
    "name": "ipython",
    "version": 3
   },
   "file_extension": ".py",
   "mimetype": "text/x-python",
   "name": "python",
   "nbconvert_exporter": "python",
   "pygments_lexer": "ipython3",
   "version": "3.7.1"
  }
 },
 "nbformat": 4,
 "nbformat_minor": 2
}
